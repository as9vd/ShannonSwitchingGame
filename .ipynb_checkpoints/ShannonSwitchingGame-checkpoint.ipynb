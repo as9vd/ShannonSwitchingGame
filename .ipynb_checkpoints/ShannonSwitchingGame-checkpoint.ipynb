{
 "cells": [
  {
   "cell_type": "markdown",
   "id": "b9b48344-a4ab-49d8-afbb-1685708daac9",
   "metadata": {},
   "source": [
    "## Graph"
   ]
  },
  {
   "cell_type": "code",
   "execution_count": 68,
   "id": "67873cb1-19d5-43bf-aa75-24549407aef8",
   "metadata": {},
   "outputs": [],
   "source": [
    "class Node:\n",
    "    def __init__(self, row, col):\n",
    "        self.val = (row, col)\n",
    "        self.adj_list = set()\n",
    "\n",
    "# create a list of edges for Game\n",
    "class Graph:\n",
    "    def __init__(self, num_rows, num_cols):\n",
    "        self.num_rows = num_rows\n",
    "        self.num_cols = num_cols\n",
    "        self.nodes = self._create_nodes()\n",
    "        \n",
    "        self.edges = set()\n",
    "        for row in range(self.num_rows):\n",
    "            for col in range(self.num_cols):\n",
    "                node = self.nodes[row][col]\n",
    "\n",
    "                adj_list = node.adj_list\n",
    "                for other_node in adj_list:\n",
    "                    self.edges.add((node, other_node))\n",
    "                    self.edges.add((other_node, node))\n",
    "        \n",
    "    def init_start_and_end(self):\n",
    "        self.start = self.nodes[0][0]\n",
    "        self.end = self.nodes[self.num_rows - 1][self.num_cols - 1]\n",
    "        \n",
    "    def print_graph(self):\n",
    "        for row in range(self.num_rows):\n",
    "            for col in range(self.num_cols):\n",
    "                print(self.nodes[row][col].val)\n",
    "            print()\n",
    "            \n",
    "    def print_adjacencies(self):\n",
    "        for row in range(self.num_rows):\n",
    "            for col in range(self.num_cols):\n",
    "                print((row, col), [node.val for node in self.nodes[row][col].adj_list])\n",
    "\n",
    "    def _create_nodes(self):\n",
    "        nodes = [[Node(row, col) for col in range(self.num_cols)] for row in range(self.num_rows)]\n",
    "        for row in range(self.num_rows):\n",
    "            for col in range(self.num_cols):\n",
    "                node = nodes[row][col]\n",
    "                if row > 0:\n",
    "                    node.adj_list.add(nodes[row - 1][col])  # Upper neighbour.\n",
    "                    nodes[row - 1][col].adj_list.add(node)\n",
    "                if row < self.num_rows - 1:\n",
    "                    node.adj_list.add(nodes[row + 1][col])  # Lower neighbour.\n",
    "                    nodes[row + 1][col].adj_list.add(node)\n",
    "                if col > 0:\n",
    "                    node.adj_list.add(nodes[row][col - 1])  # Left neighbour.\n",
    "                    nodes[row][col - 1].adj_list.add(node)\n",
    "                if col < self.num_cols - 1:\n",
    "                    node.adj_list.add(nodes[row][col + 1])  # Right neighbour.\n",
    "                    nodes[row][col + 1].adj_list.add(node)\n",
    "        return nodes"
   ]
  },
  {
   "cell_type": "code",
   "execution_count": 69,
   "id": "5db77a65-854c-4354-924e-fa9788548bd2",
   "metadata": {},
   "outputs": [
    {
     "data": {
      "text/plain": [
       "((0, 0), (2, 2))"
      ]
     },
     "execution_count": 69,
     "metadata": {},
     "output_type": "execute_result"
    }
   ],
   "source": [
    "g = Graph(3, 3)\n",
    "g.init_start_and_end()\n",
    "g.start.val, g.end.val"
   ]
  },
  {
   "cell_type": "code",
   "execution_count": 86,
   "id": "14cb2458-c81a-4108-9659-8fc700dbb26c",
   "metadata": {},
   "outputs": [],
   "source": [
    "edges = {(node1.val, node2.val) for node1, node2 in g.edges}"
   ]
  },
  {
   "cell_type": "code",
   "execution_count": 89,
   "id": "23c8199d-4e84-4287-9b6e-16c849856b24",
   "metadata": {},
   "outputs": [
    {
     "data": {
      "text/plain": [
       "{((0, 0), (0, 1)),\n",
       " ((0, 0), (1, 0)),\n",
       " ((0, 1), (0, 0)),\n",
       " ((0, 1), (0, 2)),\n",
       " ((0, 1), (1, 1)),\n",
       " ((0, 2), (0, 1)),\n",
       " ((0, 2), (1, 2)),\n",
       " ((1, 0), (0, 0)),\n",
       " ((1, 0), (1, 1)),\n",
       " ((1, 0), (2, 0)),\n",
       " ((1, 1), (0, 1)),\n",
       " ((1, 1), (1, 0)),\n",
       " ((1, 1), (1, 2)),\n",
       " ((1, 1), (2, 1)),\n",
       " ((1, 2), (0, 2)),\n",
       " ((1, 2), (1, 1)),\n",
       " ((1, 2), (2, 2)),\n",
       " ((2, 0), (1, 0)),\n",
       " ((2, 0), (2, 1)),\n",
       " ((2, 1), (1, 1)),\n",
       " ((2, 1), (2, 0)),\n",
       " ((2, 1), (2, 2)),\n",
       " ((2, 2), (1, 2)),\n",
       " ((2, 2), (2, 1))}"
      ]
     },
     "execution_count": 89,
     "metadata": {},
     "output_type": "execute_result"
    }
   ],
   "source": [
    "edges"
   ]
  },
  {
   "cell_type": "markdown",
   "id": "8c5e09ef-f820-4942-9b31-36538fafa819",
   "metadata": {},
   "source": [
    "## Game"
   ]
  },
  {
   "cell_type": "markdown",
   "id": "a1984589-c521-49e3-ac2c-76e4c07d21d1",
   "metadata": {},
   "source": [
    "Rules:\n",
    "1. s is in top-left (0, 0), t is bottom-right (m - 1, n - 1).\n",
    "2. Fix-type player wants is to secure a path from s to t; to do this, the fix-type player secures an edge in the graph in each iteration.\n",
    "3. Cut-type player wants to disconnect s and t; to do this, the cut-type player deletes an unsecured edge in the graph.\n",
    "4. Game ends when there is a secured path from s to t (fix) or there are no paths between s and t (cut)."
   ]
  },
  {
   "cell_type": "markdown",
   "id": "d803df79-5e5d-40f5-8ba1-613e7faf0656",
   "metadata": {},
   "source": [
    "#### The problem with the code below:\n",
    "1. choose_edge_to_cut() and choose_edge_to_fix() are just GPT generated and are probably shit.\n",
    "2. play()'s logic is probably not correct."
   ]
  },
  {
   "cell_type": "code",
   "execution_count": 128,
   "id": "18fcad75-6b09-43a0-98ff-e0aeb4f67d07",
   "metadata": {},
   "outputs": [],
   "source": [
    "# fix: path[0] == s and path[-1] == t (this'll be checked always)\n",
    "# cut: no more valid edges to choose\n",
    "\n",
    "class Game:\n",
    "    def __init__(self, graph):\n",
    "        self.graph = graph\n",
    "        self.m = self.graph.num_rows\n",
    "        self.n = self.graph.num_cols\n",
    "        self.unsecured_count = (2 * self.m * self.n) - self.m - self.n # this is for the CUT player\n",
    "        self.secured = [] # this is what the FIX player chooses\n",
    "        \n",
    "        # these are the remaining unsecured edges    \n",
    "        # i've used a set comprehension so it's easier to see\n",
    "        # need to ensure both directions of edges are deleted when work is done (e.g. both ((0, 0), (1, 0)) and ((1, 0), (0, 0))\n",
    "        self.remaining = {(node1.val, node2.val) for node1, node2 in self.graph.edges} \n",
    "        \n",
    "        self.fix_win = False\n",
    "        \n",
    "    # Don't run this until we've implemented the choose functions.\n",
    "    def play(self):\n",
    "        while self.unsecured_count > 0:\n",
    "            # 1. CUT player's turn\n",
    "            if len(self.remaining) == 0:\n",
    "                self.fix_win = False\n",
    "                # No more valid edges to choose.\n",
    "                break\n",
    "                \n",
    "            edge_to_cut = self.choose_edge_to_cut()\n",
    "            self.cut(edge_to_cut)\n",
    "            \n",
    "            print(\"Cut:\", edge_to_cut)\n",
    "\n",
    "            # 2. FIX player's turn\n",
    "            if len(self.remaining) == 0:\n",
    "                # No more valid edges to choose.\n",
    "                self.fix_win = False\n",
    "                break\n",
    "\n",
    "            edge_to_fix = self.choose_edge_to_fix()\n",
    "            self.fix(edge_to_fix)\n",
    "            \n",
    "            print(\"Fixed:\", edge_to_fix)\n",
    "            \n",
    "            if self.secured[0] == (0, 0) and self.secured[-1] == (self.m - 1, self.n - 1):\n",
    "                self.fix_win = True\n",
    "                break\n",
    "            \n",
    "    def choose_edge_to_cut(self):\n",
    "        # Need to implement some strategy here. Return as a tuple of coordinates.\n",
    "        # The shit below is something GPT generated.\n",
    "        best_edge = None\n",
    "        max_unsecured_cuts = -1\n",
    "\n",
    "        for edge in self.remaining:\n",
    "            # Simulate cutting the edge\n",
    "            temp_remaining = self.remaining.copy()\n",
    "            temp_remaining.remove(edge)\n",
    "            temp_unsecured_count = self.unsecured_count - 1\n",
    "\n",
    "            # Count the number of unsecured edges that would be cut\n",
    "            unsecured_cuts = 0\n",
    "            for remaining_edge in temp_remaining:\n",
    "                if remaining_edge[0] == edge[1] or remaining_edge[1] == edge[1]:\n",
    "                    unsecured_cuts += 1\n",
    "\n",
    "            # Update best edge if more unsecured cuts are found\n",
    "            if unsecured_cuts > max_unsecured_cuts:\n",
    "                max_unsecured_cuts = unsecured_cuts\n",
    "                best_edge = edge\n",
    "    \n",
    "        return best_edge\n",
    "\n",
    "    def choose_edge_to_fix(self):\n",
    "        # Need to implement some strategy here. Return as a tuple of coordinates.\n",
    "        # The shit below is something GPT generated.\n",
    "        best_edge = None\n",
    "        max_secured_additions = -1\n",
    "\n",
    "        for edge in self.remaining:\n",
    "            # Simulate fixing the edge\n",
    "            temp_remaining = self.remaining.copy()\n",
    "            temp_remaining.remove(edge)\n",
    "            temp_secured = self.secured.copy()\n",
    "            temp_secured.append(edge)\n",
    "\n",
    "            # Count the number of secured edges that would be added\n",
    "            secured_additions = 0\n",
    "            for remaining_edge in temp_remaining:\n",
    "                if remaining_edge[0] == edge[1] or remaining_edge[1] == edge[1]:\n",
    "                    secured_additions += 1\n",
    "\n",
    "            # Update best edge if more secured additions are found\n",
    "            if secured_additions > max_secured_additions:\n",
    "                max_secured_additions = secured_additions\n",
    "                best_edge = edge\n",
    "\n",
    "        return best_edge\n",
    "    \n",
    "    # 1. CUT player's function; removes unsecured edge in question (and its reverse).\n",
    "    # Ideally we don't check if the edge is in self.remaining (we just assume it is), but perhaps the choose function might fuck up.\n",
    "    def cut(self, edge):\n",
    "        # edge = ex: ((0, 0), (1,0))\n",
    "        if edge in self.remaining:\n",
    "            self.remaining.remove(edge)\n",
    "            self.unsecured_count -= 1\n",
    "            \n",
    "        # Also remove the reverse direction of the edge.\n",
    "        reverse_edge = (edge[1], edge[0])\n",
    "        if reverse_edge in self.remaining:\n",
    "            self.remaining.remove(reverse_edge)\n",
    "            self.unsecured_count -= 1\n",
    "\n",
    "    def fix(self, edge):\n",
    "        # edge = ex: ((0, 0), (1,0))\n",
    "        if edge in self.remaining:\n",
    "            self.remaining.remove(edge)\n",
    "            self.secured.append(edge[0])\n",
    "            self.secured.append(edge[1])\n",
    "            \n",
    "        # Also remove the reverse direction of the edge.\n",
    "        reverse_edge = (edge[1], edge[0])\n",
    "        if reverse_edge in self.remaining:\n",
    "            self.remaining.remove(reverse_edge)"
   ]
  },
  {
   "cell_type": "code",
   "execution_count": 129,
   "id": "2a409a51-236d-4143-9035-a0123e5d9caa",
   "metadata": {},
   "outputs": [],
   "source": [
    "game = Game(g)"
   ]
  },
  {
   "cell_type": "code",
   "execution_count": 130,
   "id": "12214101-554f-4696-8306-f4f7f9805eef",
   "metadata": {},
   "outputs": [
    {
     "name": "stdout",
     "output_type": "stream",
     "text": [
      "Cut: ((2, 1), (1, 1))\n",
      "Fixed: ((1, 1), (1, 0))\n",
      "Cut: ((1, 1), (1, 2))\n",
      "Fixed: ((1, 1), (0, 1))\n",
      "Cut: ((1, 2), (0, 2))\n",
      "Fixed: ((1, 0), (2, 0))\n",
      "Cut: ((2, 1), (2, 2))\n",
      "Fixed: ((0, 1), (0, 0))\n",
      "Cut: ((0, 1), (0, 2))\n",
      "Fixed: ((1, 2), (2, 2))\n",
      "Cut: ((0, 0), (1, 0))\n",
      "Fixed: ((2, 0), (2, 1))\n"
     ]
    }
   ],
   "source": [
    "game.play()"
   ]
  },
  {
   "cell_type": "code",
   "execution_count": 133,
   "id": "b623d7d2-2cff-46a8-add3-ffb3df083fe0",
   "metadata": {},
   "outputs": [
    {
     "data": {
      "text/plain": [
       "False"
      ]
     },
     "execution_count": 133,
     "metadata": {},
     "output_type": "execute_result"
    }
   ],
   "source": [
    "game.fix_win"
   ]
  },
  {
   "cell_type": "code",
   "execution_count": null,
   "id": "8cbdde3e-7fa2-4eef-8192-40cce4ee8e40",
   "metadata": {},
   "outputs": [],
   "source": []
  }
 ],
 "metadata": {
  "kernelspec": {
   "display_name": "Python 3 (ipykernel)",
   "language": "python",
   "name": "python3"
  },
  "language_info": {
   "codemirror_mode": {
    "name": "ipython",
    "version": 3
   },
   "file_extension": ".py",
   "mimetype": "text/x-python",
   "name": "python",
   "nbconvert_exporter": "python",
   "pygments_lexer": "ipython3",
   "version": "3.9.15"
  }
 },
 "nbformat": 4,
 "nbformat_minor": 5
}
