{
 "cells": [
  {
   "cell_type": "markdown",
   "id": "b9b48344-a4ab-49d8-afbb-1685708daac9",
   "metadata": {},
   "source": [
    "## Initialise Graph"
   ]
  },
  {
   "cell_type": "code",
   "execution_count": 31,
   "id": "67873cb1-19d5-43bf-aa75-24549407aef8",
   "metadata": {},
   "outputs": [],
   "source": [
    "class Node:\n",
    "    def __init__(self, row, col):\n",
    "        self.val = (row, col)\n",
    "        self.adj_list = set()\n",
    "\n",
    "class Graph:\n",
    "    def __init__(self, num_rows, num_cols):\n",
    "        self.num_rows = num_rows\n",
    "        self.num_cols = num_cols\n",
    "        self.nodes = self._create_nodes()\n",
    "        \n",
    "    def print_graph(self):\n",
    "        for row in range(self.num_rows):\n",
    "            for col in range(self.num_cols):\n",
    "                print(self.nodes[row][col].val)\n",
    "            print()\n",
    "            \n",
    "    def print_adjacencies(self):\n",
    "        for row in range(self.num_rows):\n",
    "            for col in range(self.num_cols):\n",
    "                print((row, col), [node.val for node in self.nodes[row][col].adj_list])\n",
    "\n",
    "    def _create_nodes(self):\n",
    "        nodes = [[Node(row, col) for col in range(self.num_cols)] for row in range(self.num_rows)]\n",
    "        for row in range(self.num_rows):\n",
    "            for col in range(self.num_cols):\n",
    "                node = nodes[row][col]\n",
    "                if row > 0:\n",
    "                    node.adj_list.add(nodes[row - 1][col])  # Upper neighbour.\n",
    "                    nodes[row - 1][col].adj_list.add(node)\n",
    "                if row < self.num_rows - 1:\n",
    "                    node.adj_list.add(nodes[row + 1][col])  # Lower neighbour.\n",
    "                    nodes[row + 1][col].adj_list.add(node)\n",
    "                if col > 0:\n",
    "                    node.adj_list.add(nodes[row][col - 1])  # Left neighbour.\n",
    "                    nodes[row][col - 1].adj_list.add(node)\n",
    "                if col < self.num_cols - 1:\n",
    "                    node.adj_list.add(nodes[row][col + 1])  # Right neighbour.\n",
    "                    nodes[row][col + 1].adj_list.add(node)\n",
    "        return nodes"
   ]
  },
  {
   "cell_type": "code",
   "execution_count": 32,
   "id": "5db77a65-854c-4354-924e-fa9788548bd2",
   "metadata": {},
   "outputs": [],
   "source": [
    "g = Graph(3, 3)"
   ]
  },
  {
   "cell_type": "code",
   "execution_count": null,
   "id": "4f352656-53a1-4259-86bb-76725aa5f634",
   "metadata": {},
   "outputs": [],
   "source": []
  }
 ],
 "metadata": {
  "kernelspec": {
   "display_name": "Python 3 (ipykernel)",
   "language": "python",
   "name": "python3"
  },
  "language_info": {
   "codemirror_mode": {
    "name": "ipython",
    "version": 3
   },
   "file_extension": ".py",
   "mimetype": "text/x-python",
   "name": "python",
   "nbconvert_exporter": "python",
   "pygments_lexer": "ipython3",
   "version": "3.9.15"
  }
 },
 "nbformat": 4,
 "nbformat_minor": 5
}
