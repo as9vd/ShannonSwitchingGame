{
 "cells": [
  {
   "cell_type": "markdown",
   "id": "b9b48344-a4ab-49d8-afbb-1685708daac9",
   "metadata": {},
   "source": [
    "## Initialise Graph"
   ]
  },
  {
   "cell_type": "code",
   "execution_count": 36,
   "id": "67873cb1-19d5-43bf-aa75-24549407aef8",
   "metadata": {},
   "outputs": [],
   "source": [
    "class Node:\n",
    "    def __init__(self, row, col):\n",
    "        self.val = (row, col)\n",
    "        self.adj_list = set()\n",
    "\n",
    "class Graph:\n",
    "    def __init__(self, num_rows, num_cols):\n",
    "        self.num_rows = num_rows\n",
    "        self.num_cols = num_cols\n",
    "        self.nodes = self._create_nodes()\n",
    "        \n",
    "    def init_start_and_end(self):\n",
    "        self.start = self.nodes[0][0]\n",
    "        self.end = self.nodes[self.num_rows - 1][self.num_cols - 1]\n",
    "        \n",
    "    def print_graph(self):\n",
    "        for row in range(self.num_rows):\n",
    "            for col in range(self.num_cols):\n",
    "                print(self.nodes[row][col].val)\n",
    "            print()\n",
    "            \n",
    "    def print_adjacencies(self):\n",
    "        for row in range(self.num_rows):\n",
    "            for col in range(self.num_cols):\n",
    "                print((row, col), [node.val for node in self.nodes[row][col].adj_list])\n",
    "\n",
    "    def _create_nodes(self):\n",
    "        nodes = [[Node(row, col) for col in range(self.num_cols)] for row in range(self.num_rows)]\n",
    "        for row in range(self.num_rows):\n",
    "            for col in range(self.num_cols):\n",
    "                node = nodes[row][col]\n",
    "                if row > 0:\n",
    "                    node.adj_list.add(nodes[row - 1][col])  # Upper neighbour.\n",
    "                    nodes[row - 1][col].adj_list.add(node)\n",
    "                if row < self.num_rows - 1:\n",
    "                    node.adj_list.add(nodes[row + 1][col])  # Lower neighbour.\n",
    "                    nodes[row + 1][col].adj_list.add(node)\n",
    "                if col > 0:\n",
    "                    node.adj_list.add(nodes[row][col - 1])  # Left neighbour.\n",
    "                    nodes[row][col - 1].adj_list.add(node)\n",
    "                if col < self.num_cols - 1:\n",
    "                    node.adj_list.add(nodes[row][col + 1])  # Right neighbour.\n",
    "                    nodes[row][col + 1].adj_list.add(node)\n",
    "        return nodes"
   ]
  },
  {
   "cell_type": "code",
   "execution_count": 43,
   "id": "5db77a65-854c-4354-924e-fa9788548bd2",
   "metadata": {},
   "outputs": [
    {
     "data": {
      "text/plain": [
       "((0, 0), (2, 2))"
      ]
     },
     "execution_count": 43,
     "metadata": {},
     "output_type": "execute_result"
    }
   ],
   "source": [
    "g = Graph(3, 3)\n",
    "g.init_start_and_end()\n",
    "g.start.val, g.end.val"
   ]
  },
  {
   "cell_type": "markdown",
   "id": "8c5e09ef-f820-4942-9b31-36538fafa819",
   "metadata": {},
   "source": [
    "## Game"
   ]
  },
  {
   "cell_type": "markdown",
   "id": "a1984589-c521-49e3-ac2c-76e4c07d21d1",
   "metadata": {},
   "source": [
    "Rules:\n",
    "1. s is in top-left (0, 0), t is bottom-right (m - 1, n - 1).\n",
    "2. Fix-type player wants is to secure a path from s to t; to do this, the fix-type player secures an edge in the graph in each iteration.\n",
    "3. Cut-type player wants to disconnect s and t; to do this, the cut-type player deletes an unsecured edge in the graph.\n",
    "4. Game ends when there is a secured path from s to t (fix) or there are no paths between s and t (cut)."
   ]
  },
  {
   "cell_type": "code",
   "execution_count": 45,
   "id": "18fcad75-6b09-43a0-98ff-e0aeb4f67d07",
   "metadata": {},
   "outputs": [],
   "source": [
    "# fix: path[0] == s and path[-1] == t (this'll be checked always)\n",
    "# cut: no more valid edges to choose\n",
    "\n",
    "class Game:\n",
    "    def __init__(self, graph):\n",
    "        self.graph = graph\n",
    "        m = self.graph.num_rows\n",
    "        n = self.graph.num_cols\n",
    "        self.unsecured_count = (2 * m * n) - m - n"
   ]
  },
  {
   "cell_type": "code",
   "execution_count": 47,
   "id": "2a409a51-236d-4143-9035-a0123e5d9caa",
   "metadata": {},
   "outputs": [],
   "source": [
    "game = Game(g)"
   ]
  },
  {
   "cell_type": "code",
   "execution_count": 48,
   "id": "34d52750-37dd-44b5-9a27-92d131237c62",
   "metadata": {},
   "outputs": [
    {
     "data": {
      "text/plain": [
       "12"
      ]
     },
     "execution_count": 48,
     "metadata": {},
     "output_type": "execute_result"
    }
   ],
   "source": [
    "game.unsecured_count"
   ]
  },
  {
   "cell_type": "code",
   "execution_count": null,
   "id": "a99e8425-28d3-4b39-8d32-04effac405d5",
   "metadata": {},
   "outputs": [],
   "source": []
  }
 ],
 "metadata": {
  "kernelspec": {
   "display_name": "Python 3 (ipykernel)",
   "language": "python",
   "name": "python3"
  },
  "language_info": {
   "codemirror_mode": {
    "name": "ipython",
    "version": 3
   },
   "file_extension": ".py",
   "mimetype": "text/x-python",
   "name": "python",
   "nbconvert_exporter": "python",
   "pygments_lexer": "ipython3",
   "version": "3.9.15"
  }
 },
 "nbformat": 4,
 "nbformat_minor": 5
}
